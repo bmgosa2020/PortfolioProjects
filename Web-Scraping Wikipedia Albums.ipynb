{
 "cells": [
  {
   "cell_type": "code",
   "execution_count": 9,
   "id": "b6d5e628-45ef-46db-8de9-6ff37b8e29db",
   "metadata": {},
   "outputs": [],
   "source": [
    "from bs4 import BeautifulSoup\n",
    "import requests\n",
    "import pandas as pd\n",
    "import re\n",
    "\n",
    "url = 'https://en.wikipedia.org/wiki/List_of_best-selling_albums_in_the_United_States'\n",
    "page = requests.get(url)\n",
    "\n",
    "soup = BeautifulSoup(page.text, 'html')\n",
    "\n",
    "column_titles = soup.find_all('th')\n",
    "column_titles_table = [title.text.strip() for title in column_titles]\n",
    "\n",
    "# initial data cleaning\n",
    "index = 5\n",
    "del column_titles_table[index+1:]\n",
    "column_titles_table[4] = \"Sales\"\n",
    "column_titles_table[5] = \"Certification\"\n",
    "\n",
    "tables = soup.find_all('table', class_='wikitable sortable')\n",
    "\n",
    "df = pd.DataFrame(columns = column_titles_table)\n",
    "\n",
    "for table in tables:\n",
    "    rows = table.find_all('tr')\n",
    "    for row in rows[1:]:\n",
    "        cells = row.find_all('td')\n",
    "        if len(cells) == len(df.columns):\n",
    "            row_data = [cell.text.strip() for cell in cells]\n",
    "            df.loc[len(df)] = row_data\n",
    "\n",
    "# Pandas data cleaning\n",
    "\n",
    "# Drop rows with any missing values\n",
    "df = df.dropna()\n",
    "\n",
    "# Remove special characters from all columns (only non-numeric columns)\n",
    "for column in df.columns:\n",
    "    if df[column].dtype == 'object':  # Check if column is string\n",
    "        df[column] = df[column].apply(lambda x: ''.join(e for e in str(x) if e.isalnum() or e.isspace()))  # Keep only letters, numbers, spaces\n",
    "\n",
    "df.to_csv(r'/Users/brendan/Downloads/Output Folder/Albums.csv', index = False)\n"
   ]
  },
  {
   "cell_type": "code",
   "execution_count": null,
   "id": "1928f3f2-3b01-483a-8930-ccd9c529d39b",
   "metadata": {},
   "outputs": [],
   "source": []
  }
 ],
 "metadata": {
  "kernelspec": {
   "display_name": "Python 3 (ipykernel)",
   "language": "python",
   "name": "python3"
  },
  "language_info": {
   "codemirror_mode": {
    "name": "ipython",
    "version": 3
   },
   "file_extension": ".py",
   "mimetype": "text/x-python",
   "name": "python",
   "nbconvert_exporter": "python",
   "pygments_lexer": "ipython3",
   "version": "3.12.7"
  }
 },
 "nbformat": 4,
 "nbformat_minor": 5
}
